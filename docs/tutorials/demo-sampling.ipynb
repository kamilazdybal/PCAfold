{
 "cells": [
  {
   "cell_type": "markdown",
   "metadata": {},
   "source": [
    "<a id='top-page'></a>\n",
    "# <img src=\"../images/PCAfold-logo.svg\" style=\"height:100px\"> Demo for data sampling\n",
    "\n",
    "In this tutorial, we present how train and test samples can be selected using the\n",
    "sampling functionalities of the ``preprocess`` module. In general, train and test\n",
    "samples will always be some subset of the entire data set ``X``:\n",
    "\n",
    "<img src=\"../images/tts-train-test-select.svg\" style=\"height:200px\">\n",
    "\n",
    "## Data sampling\n",
    "\n",
    "A synthetic data set is created and we perform train and test data sampling using available functions from the `DataSampler` class:\n",
    "\n",
    "- [**Sample a fixed number**](#select_fixed_number) `DataSampler.number`\n",
    "- [**Sample a fixed percentage**](#select_fixed_percentage) `DataSampler.percentage`\n",
    "- [**Sample manually**](#select_manually) `DataSampler.manual`\n",
    "- [**Sample at random**](#select_at_random) `DataSampler.random`\n",
    "\n",
    "Finally, we present two more advanced use-cases for the sampling functions:\n",
    "\n",
    "- [**Maintaining a fixed test data set**](#maintain_fixed_test_data)\n",
    "- [**Chaining sampling functions**](#chaining_sampling_functions)\n",
    "\n",
    "***"
   ]
  },
  {
   "cell_type": "markdown",
   "metadata": {},
   "source": [
    "**Should plots be saved?**"
   ]
  },
  {
   "cell_type": "code",
   "execution_count": null,
   "metadata": {},
   "outputs": [],
   "source": [
    "save_plots = False"
   ]
  },
  {
   "cell_type": "markdown",
   "metadata": {},
   "source": [
    "***"
   ]
  },
  {
   "cell_type": "markdown",
   "metadata": {},
   "source": [
    "We import the necessary modules:"
   ]
  },
  {
   "cell_type": "code",
   "execution_count": 2,
   "metadata": {},
   "outputs": [],
   "source": [
    "from PCAfold import DataSampler\n",
    "from PCAfold import preprocess\n",
    "import matplotlib.pyplot as plt\n",
    "from matplotlib.colors import ListedColormap\n",
    "import numpy as np"
   ]
  },
  {
   "cell_type": "markdown",
   "metadata": {},
   "source": [
    "and we set some initial parameters:"
   ]
  },
  {
   "cell_type": "code",
   "execution_count": 3,
   "metadata": {},
   "outputs": [],
   "source": [
    "save_filename = None\n",
    "color_map = ListedColormap(['#0e7da7', '#ceca70', '#b45050', '#2d2d54'])\n",
    "first_cluster = False\n",
    "figure_size = (5,5)\n",
    "random_seed = 200\n",
    "np.random.seed(seed=random_seed)"
   ]
  },
  {
   "cell_type": "markdown",
   "metadata": {},
   "source": [
    "We generate a synthetic data set that is composed of four distinct clusters that have an imbalanced number of observations (100, 250, 400 and 500 - 1250 total number of observations):"
   ]
  },
  {
   "cell_type": "code",
   "execution_count": 4,
   "metadata": {},
   "outputs": [],
   "source": [
    "N_1, N_2, N_3, N_4 = 100, 250, 400, 500\n",
    "n_observations = N_1 + N_2 + N_3 + N_4\n",
    "mean_k1, mean_k2, mean_k3, mean_k4 = [-3, 3], [3, 3], [-3, -3], [3, -3] \n",
    "covariance = [[1, 0.2], [0.2, 1]]\n",
    "x_k1, y_k1 = np.random.multivariate_normal(mean_k1, covariance, N_1).T\n",
    "x_k2, y_k2 = np.random.multivariate_normal(mean_k2, covariance, N_2).T\n",
    "x_k3, y_k3 = np.random.multivariate_normal(mean_k3, covariance, N_3).T\n",
    "x_k4, y_k4 = np.random.multivariate_normal(mean_k4, covariance, N_4).T\n",
    "x = np.vstack((x_k1[:,np.newaxis], x_k2[:,np.newaxis], x_k3[:,np.newaxis], x_k4[:,np.newaxis]))\n",
    "y = np.vstack((y_k1[:,np.newaxis], y_k2[:,np.newaxis], y_k3[:,np.newaxis], y_k4[:,np.newaxis]))\n",
    "idx = np.vstack((np.zeros((N_1, 1)), np.ones((N_2, 1)), 2*np.ones((N_3, 1)), 3*np.ones((N_4, 1)))).astype(int).ravel()\n",
    "populations = preprocess.get_populations(idx)"
   ]
  },
  {
   "cell_type": "markdown",
   "metadata": {},
   "source": [
    "We visualize the original data set:"
   ]
  },
  {
   "cell_type": "code",
   "execution_count": 5,
   "metadata": {},
   "outputs": [
    {
     "data": {
      "text/plain": [
       "<module 'matplotlib.pyplot' from '/Users/kamilazdybal/anaconda3/envs/spitfire/lib/python3.7/site-packages/matplotlib/pyplot.py'>"
      ]
     },
     "execution_count": 5,
     "metadata": {},
     "output_type": "execute_result"
    }
   ],
   "source": [
    "if save_plots: save_filename = '../images/tutorial-train-test-select-original-data-set.svg'\n",
    "preprocess.plot_2d_clustering(x, y, idx, x_label='$x$', y_label='$y$', color_map=color_map, first_cluster_index_zero=first_cluster, figure_size=figure_size, title='Original data set', save_filename=save_filename)"
   ]
  },
  {
   "cell_type": "markdown",
   "metadata": {},
   "source": [
    "The only information about the original data set that will be needed is\n",
    "the vector ``idx`` of cluster classifications.\n",
    "\n",
    "\n",
    "Note that ``idx_train`` and ``idx_test``, that are the outputs of the sampling functions in this module, have a different interpretation than ``idx``. They are vectors containing\n",
    "observation indices, *not* cluster classifications.\n",
    "For instance, if train samples are composed of the first, second and tenth\n",
    "observation then ``idx_train=[0,1,9]``.\n",
    "\n",
    "You can find which cluster each observation in ``idx_train`` (or ``idx_test``)\n",
    "belongs to, for instance through:\n",
    "\n",
    "```python\n",
    "idx[idx_train,]\n",
    "idx[idx_test,]\n",
    "```\n",
    "\n",
    "You can also extract a subset of ``idx_train`` that are only the indices belonging to a\n",
    "particular cluster.\n",
    "For instance, for the first cluster you can extract them by:\n",
    "\n",
    "```python\n",
    "train_indices_in_cluster_1 = [i for i in idx_train if idx[i,]==0]\n",
    "```\n",
    "\n",
    "for the second cluster:\n",
    "\n",
    "```python\n",
    "train_indices_in_cluster_2 = [i for i in idx_train if idx[i,]==1]\n",
    "```\n",
    "\n",
    "and so on."
   ]
  },
  {
   "cell_type": "markdown",
   "metadata": {},
   "source": [
    "We start by initalizing an object of the ``DataSampler`` class. For the moment,\n",
    "we will set the parameter ``idx_test`` to an empty list, but we will demonstrate\n",
    "an example for setting that parameter to something else later. Note that we can\n",
    "set a fixed random seed if we want the sampling results to be reproducible. With\n",
    "``verbose=True``, we will additionally see some detailed information about the current\n",
    "sampling."
   ]
  },
  {
   "cell_type": "code",
   "execution_count": 6,
   "metadata": {},
   "outputs": [],
   "source": [
    "sample = DataSampler(idx, idx_test=None, random_seed=random_seed, verbose=True)"
   ]
  },
  {
   "cell_type": "markdown",
   "metadata": {},
   "source": [
    "***\n",
    "<a id='select_fixed_number'></a>\n",
    "## Sample a fixed number\n",
    "\n",
    "[**↑ Go to the top**](#top-page)\n",
    "\n",
    "We first select a fixed number of samples using the ``DataSampler.number``\n",
    "function. Let's request 15% of the total data to be the train data. The function\n",
    "calculates that it needs to select 46 samples from each cluster, which\n",
    "amounts to 14.7% of the total number of samples in the data set. Whenever the exact percentage\n",
    "requested by the user cannot be achieved, the function always under-samples.\n",
    "\n",
    "<img src=\"../images/sampling-test-selection-option-number.svg\" style=\"height:200px\">\n",
    "\n",
    "### Select test data with ``test_selection_option=1``\n",
    "\n",
    "There are always two ways in which the complementary test data can be selected.\n",
    "They can be selected using the ``test_selection_option`` parameter.\n",
    "We start with ``test_selection_option=1``, which selects all remaining\n",
    "observations as the test data:"
   ]
  },
  {
   "cell_type": "code",
   "execution_count": 7,
   "metadata": {},
   "outputs": [
    {
     "name": "stdout",
     "output_type": "stream",
     "text": [
      "Cluster 0: taking 46 train samples out of 100 observations (46.0%).\n",
      "Cluster 1: taking 46 train samples out of 250 observations (18.4%).\n",
      "Cluster 2: taking 46 train samples out of 400 observations (11.5%).\n",
      "Cluster 3: taking 46 train samples out of 500 observations (9.2%).\n",
      "\n",
      "Cluster 0: taking 54 test samples out of 54 remaining observations (100.0%).\n",
      "Cluster 1: taking 204 test samples out of 204 remaining observations (100.0%).\n",
      "Cluster 2: taking 354 test samples out of 354 remaining observations (100.0%).\n",
      "Cluster 3: taking 454 test samples out of 454 remaining observations (100.0%).\n",
      "\n",
      "Selected 184 train samples (14.7%) and 1066 test samples (85.3%).\n",
      "\n"
     ]
    }
   ],
   "source": [
    "(idx_train, idx_test) = sample.number(15, test_selection_option=1)"
   ]
  },
  {
   "cell_type": "markdown",
   "metadata": {},
   "source": [
    "A dedicated plotting function from the ``preprocess`` module can be used to visualize\n",
    "the train and test samples. This function takes as inputs the obtained ``idx_train``\n",
    "and ``idx_test`` vectors. Note that a custom colormap can be specified by the user.\n",
    "\n",
    "The visual result of this sampling can be seen below:"
   ]
  },
  {
   "cell_type": "code",
   "execution_count": 8,
   "metadata": {},
   "outputs": [],
   "source": [
    "if save_plots: save_filename = '../images/tutorial-train-test-select-fixed-number-1.svg'\n",
    "plt = preprocess.plot_2d_train_test_samples(x, y, idx, idx_train, idx_test, color_map=color_map, first_cluster_index_zero=first_cluster, figure_size=(10,5), save_filename=save_filename)"
   ]
  },
  {
   "cell_type": "markdown",
   "metadata": {},
   "source": [
    "### Select test data with ``test_selection_option=2``\n",
    "\n",
    "We then set ``test_selection_option=2`` which selects a fixed number of\n",
    "test samples from each cluster, calculated based on the smallest cluster. This\n",
    "amounts to 54 test samples from each cluster."
   ]
  },
  {
   "cell_type": "code",
   "execution_count": 9,
   "metadata": {},
   "outputs": [
    {
     "name": "stdout",
     "output_type": "stream",
     "text": [
      "Cluster 0: taking 46 train samples out of 100 observations (46.0%).\n",
      "Cluster 1: taking 46 train samples out of 250 observations (18.4%).\n",
      "Cluster 2: taking 46 train samples out of 400 observations (11.5%).\n",
      "Cluster 3: taking 46 train samples out of 500 observations (9.2%).\n",
      "\n",
      "Cluster 0: taking 54 test samples out of 54 remaining observations (100.0%).\n",
      "Cluster 1: taking 54 test samples out of 204 remaining observations (26.5%).\n",
      "Cluster 2: taking 54 test samples out of 354 remaining observations (15.3%).\n",
      "Cluster 3: taking 54 test samples out of 454 remaining observations (11.9%).\n",
      "\n",
      "Selected 184 train samples (14.7%) and 216 test samples (17.3%).\n",
      "\n"
     ]
    }
   ],
   "source": [
    "(idx_train, idx_test) = sample.number(15, test_selection_option=2)"
   ]
  },
  {
   "cell_type": "markdown",
   "metadata": {},
   "source": [
    "The visual result of this sampling can be seen below:"
   ]
  },
  {
   "cell_type": "code",
   "execution_count": 10,
   "metadata": {},
   "outputs": [],
   "source": [
    "if save_plots: save_filename = '../images/tutorial-train-test-select-fixed-number-2.svg'\n",
    "plt = preprocess.plot_2d_train_test_samples(x, y, idx, idx_train, idx_test, color_map=color_map, first_cluster_index_zero=first_cluster, figure_size=(10,5), save_filename=save_filename)"
   ]
  },
  {
   "cell_type": "markdown",
   "metadata": {},
   "source": [
    "***\n",
    "<a id='select_fixed_percentage'></a>\n",
    "## Sample a fixed percentage\n",
    "\n",
    "[**↑ Go to the top**](#top-page)\n",
    "\n",
    "Next, we select a percentage of samples from each cluster using the\n",
    "``DataSampler.percentage`` function. Let's request 10% of the total data to be the train\n",
    "data - the function selects 10% of samples from each cluster.\n",
    "\n",
    "<img src=\"../images/sampling-test-selection-option-percentage.svg\" style=\"height:200px\">\n",
    "\n",
    "### Select test data with ``test_selection_option=1``\n",
    "\n",
    "We start with ``test_selection_option=1``, which selects all remaining\n",
    "observations as the test data:"
   ]
  },
  {
   "cell_type": "code",
   "execution_count": 11,
   "metadata": {},
   "outputs": [
    {
     "name": "stdout",
     "output_type": "stream",
     "text": [
      "Cluster 0: taking 10 train samples out of 100 observations (10.0%).\n",
      "Cluster 1: taking 25 train samples out of 250 observations (10.0%).\n",
      "Cluster 2: taking 40 train samples out of 400 observations (10.0%).\n",
      "Cluster 3: taking 50 train samples out of 500 observations (10.0%).\n",
      "\n",
      "Cluster 0: taking 90 test samples out of 90 remaining observations (100.0%).\n",
      "Cluster 1: taking 225 test samples out of 225 remaining observations (100.0%).\n",
      "Cluster 2: taking 360 test samples out of 360 remaining observations (100.0%).\n",
      "Cluster 3: taking 450 test samples out of 450 remaining observations (100.0%).\n",
      "\n",
      "Selected 125 train samples (10.0%) and 1125 test samples (90.0%).\n",
      "\n"
     ]
    }
   ],
   "source": [
    "(idx_train, idx_test) = sample.percentage(10, test_selection_option=1)"
   ]
  },
  {
   "cell_type": "markdown",
   "metadata": {},
   "source": [
    "The visual result of this sampling can be seen below:"
   ]
  },
  {
   "cell_type": "code",
   "execution_count": 12,
   "metadata": {},
   "outputs": [],
   "source": [
    "if save_plots: save_filename = '../images/tutorial-train-test-select-fixed-percentage-1.svg'\n",
    "plt = preprocess.plot_2d_train_test_samples(x, y, idx, idx_train, idx_test, color_map=color_map, first_cluster_index_zero=first_cluster, figure_size=(10,5), save_filename=save_filename)"
   ]
  },
  {
   "cell_type": "markdown",
   "metadata": {},
   "source": [
    "### Select test data with ``test_selection_option=2``\n",
    "\n",
    "We then set ``test_selection_option=2`` which uses the same procedure\n",
    "to select the test data as was used to select the train data. In this case,\n",
    "it also selects 10% of samples from each cluster as the test samples.\n"
   ]
  },
  {
   "cell_type": "code",
   "execution_count": 13,
   "metadata": {},
   "outputs": [
    {
     "name": "stdout",
     "output_type": "stream",
     "text": [
      "Cluster 0: taking 10 train samples out of 100 observations (10.0%).\n",
      "Cluster 1: taking 25 train samples out of 250 observations (10.0%).\n",
      "Cluster 2: taking 40 train samples out of 400 observations (10.0%).\n",
      "Cluster 3: taking 50 train samples out of 500 observations (10.0%).\n",
      "\n",
      "Cluster 0: taking 10 test samples out of 90 remaining observations (11.1%).\n",
      "Cluster 1: taking 25 test samples out of 225 remaining observations (11.1%).\n",
      "Cluster 2: taking 40 test samples out of 360 remaining observations (11.1%).\n",
      "Cluster 3: taking 50 test samples out of 450 remaining observations (11.1%).\n",
      "\n",
      "Selected 125 train samples (10.0%) and 125 test samples (10.0%).\n",
      "\n"
     ]
    }
   ],
   "source": [
    "(idx_train, idx_test) = sample.percentage(10, test_selection_option=2)"
   ]
  },
  {
   "cell_type": "markdown",
   "metadata": {},
   "source": [
    "The visual result of this sampling can be seen below:"
   ]
  },
  {
   "cell_type": "code",
   "execution_count": 14,
   "metadata": {},
   "outputs": [],
   "source": [
    "if save_plots: save_filename = '../images/tutorial-train-test-select-fixed-percentage-2.svg'\n",
    "plt = preprocess.plot_2d_train_test_samples(x, y, idx, idx_train, idx_test, color_map=color_map, first_cluster_index_zero=first_cluster, figure_size=(10,5), save_filename=save_filename)"
   ]
  },
  {
   "cell_type": "markdown",
   "metadata": {},
   "source": [
    "***\n",
    "<a id='select_manually'></a>\n",
    "## Sample manually\n",
    "\n",
    "[**↑ Go to the top**](#top-page)\n",
    "\n",
    "We select samples manually from each cluster using the ``DataSampler.manual``\n",
    "function.\n",
    "\n",
    "<img src=\"../images/sampling-test-selection-option-manual.svg\" style=\"height:200px\">\n",
    "\n",
    "### Select test data with ``test_selection_option=1``\n",
    "\n",
    "We start with ``test_selection_option=1`` which selects all remaining\n",
    "observations as the test data.\n",
    "Let's request 4, 5, 10 and 2 samples from the first, second, third and fourth cluster respectively.\n",
    "The sampling dictionary will thus have to be:\n",
    "``sampling_dictionary={0:4, 1:5, 2:10, 3:2}``. Note that the function\n",
    "still selects those samples randomly from each cluster.\n",
    "We should also change ``sampling_type`` to ``'number'`` so that samples are\n",
    "selected on a number and not a percentage basis:"
   ]
  },
  {
   "cell_type": "code",
   "execution_count": 15,
   "metadata": {},
   "outputs": [
    {
     "name": "stdout",
     "output_type": "stream",
     "text": [
      "Cluster 0: taking 4 train samples out of 100 observations (4.0%).\n",
      "Cluster 1: taking 5 train samples out of 250 observations (2.0%).\n",
      "Cluster 2: taking 10 train samples out of 400 observations (2.5%).\n",
      "Cluster 3: taking 2 train samples out of 500 observations (0.4%).\n",
      "\n",
      "Cluster 0: taking 96 test samples out of 96 remaining observations (100.0%).\n",
      "Cluster 1: taking 245 test samples out of 245 remaining observations (100.0%).\n",
      "Cluster 2: taking 390 test samples out of 390 remaining observations (100.0%).\n",
      "Cluster 3: taking 498 test samples out of 498 remaining observations (100.0%).\n",
      "\n",
      "Selected 21 train samples (1.7%) and 1229 test samples (98.3%).\n",
      "\n"
     ]
    }
   ],
   "source": [
    "(idx_train, idx_test) = sample.manual({0:4, 1:5, 2:10, 3:2}, sampling_type='number', test_selection_option=1)"
   ]
  },
  {
   "cell_type": "markdown",
   "metadata": {},
   "source": [
    "The visual result of this sampling can be seen below:"
   ]
  },
  {
   "cell_type": "code",
   "execution_count": 16,
   "metadata": {},
   "outputs": [],
   "source": [
    "if save_plots: save_filename = '../images/tutorial-train-test-select-manually-1.svg'\n",
    "plt = preprocess.plot_2d_train_test_samples(x, y, idx, idx_train, idx_test, color_map=color_map, first_cluster_index_zero=first_cluster, figure_size=(10,5), save_filename=save_filename)"
   ]
  },
  {
   "cell_type": "markdown",
   "metadata": {},
   "source": [
    "### Select test data with ``test_selection_option=2``\n",
    "\n",
    "We then set ``test_selection_option=2`` which uses the same procedure\n",
    "to select the test data as was used to select the train data. This time, let's request\n",
    "50%, 10%, 10% and 20% from the first, second, third and fourth cluster respectively.\n",
    "The sampling dictionary will thus have to be:\n",
    "``sampling_dictionary={0:50, 1:10, 2:10, 3:20}`` and we should change the\n",
    "``sampling_type`` to ``'percentage'``:"
   ]
  },
  {
   "cell_type": "code",
   "execution_count": 17,
   "metadata": {},
   "outputs": [
    {
     "name": "stdout",
     "output_type": "stream",
     "text": [
      "Cluster 0: taking 50 train samples out of 100 observations (50.0%).\n",
      "Cluster 1: taking 25 train samples out of 250 observations (10.0%).\n",
      "Cluster 2: taking 40 train samples out of 400 observations (10.0%).\n",
      "Cluster 3: taking 100 train samples out of 500 observations (20.0%).\n",
      "\n",
      "Cluster 0: taking 50 test samples out of 50 remaining observations (100.0%).\n",
      "Cluster 1: taking 25 test samples out of 225 remaining observations (11.1%).\n",
      "Cluster 2: taking 40 test samples out of 360 remaining observations (11.1%).\n",
      "Cluster 3: taking 100 test samples out of 400 remaining observations (25.0%).\n",
      "\n",
      "Selected 215 train samples (17.2%) and 215 test samples (17.2%).\n",
      "\n"
     ]
    }
   ],
   "source": [
    "(idx_train, idx_test) = sample.manual({0:50, 1:10, 2:10, 3:20}, sampling_type='percentage', test_selection_option=2)"
   ]
  },
  {
   "cell_type": "markdown",
   "metadata": {},
   "source": [
    "The visual result of this sampling can be seen below:"
   ]
  },
  {
   "cell_type": "code",
   "execution_count": 18,
   "metadata": {},
   "outputs": [],
   "source": [
    "if save_plots: save_filename = '../images/tutorial-train-test-select-manually-2.svg'\n",
    "plt = preprocess.plot_2d_train_test_samples(x, y, idx, idx_train, idx_test, color_map=color_map, first_cluster_index_zero=first_cluster, figure_size=(10,5), save_filename=save_filename)"
   ]
  },
  {
   "cell_type": "markdown",
   "metadata": {},
   "source": [
    "***\n",
    "<a id='select_at_random'></a>\n",
    "## Sample at random\n",
    "\n",
    "[**↑ Go to the top**](#top-page)\n",
    "\n",
    "Finally, we select random samples using the ``DataSampler.random`` function.\n",
    "Let's request 10% of the total data to be the train data.\n",
    "\n",
    "Note, that random sampling will typically give a very similar sample distribution as\n",
    "percentage sampling. The only difference is that percentage sampling will\n",
    "maintain the percentage ``perc`` exact within each cluster while random sampling\n",
    "will typically result in some small variations from ``perc`` in each cluster\n",
    "since it is sampling independently of cluster definitions.\n",
    "\n",
    "<img src=\"../images/sampling-test-selection-option-random.svg\" style=\"height:200px\">\n",
    "\n",
    "### Select test data with ``test_selection_option=1``\n",
    "\n",
    "We start with ``test_selection_option=1`` which selects all remaining\n",
    "observations as test data."
   ]
  },
  {
   "cell_type": "code",
   "execution_count": 19,
   "metadata": {},
   "outputs": [
    {
     "name": "stdout",
     "output_type": "stream",
     "text": [
      "Cluster 0: taking 14 train samples out of 100 observations (14.0%).\n",
      "Cluster 1: taking 28 train samples out of 250 observations (11.2%).\n",
      "Cluster 2: taking 42 train samples out of 400 observations (10.5%).\n",
      "Cluster 3: taking 41 train samples out of 500 observations (8.2%).\n",
      "\n",
      "Cluster 0: taking 86 test samples out of 86 remaining observations (100.0%).\n",
      "Cluster 1: taking 222 test samples out of 222 remaining observations (100.0%).\n",
      "Cluster 2: taking 358 test samples out of 358 remaining observations (100.0%).\n",
      "Cluster 3: taking 459 test samples out of 459 remaining observations (100.0%).\n",
      "\n",
      "Selected 125 train samples (10.0%) and 1125 test samples (90.0%).\n",
      "\n"
     ]
    }
   ],
   "source": [
    "(idx_train, idx_test) = sample.random(10, test_selection_option=1)"
   ]
  },
  {
   "cell_type": "markdown",
   "metadata": {},
   "source": [
    "The visual result of this sampling can be seen below:"
   ]
  },
  {
   "cell_type": "code",
   "execution_count": 20,
   "metadata": {},
   "outputs": [],
   "source": [
    "if save_plots: save_filename = '../images/tutorial-train-test-select-random-doc-1.svg'\n",
    "plt = preprocess.plot_2d_train_test_samples(x, y, idx, idx_train, idx_test, color_map=color_map, first_cluster_index_zero=first_cluster, figure_size=(10,5),save_filename=save_filename)"
   ]
  },
  {
   "cell_type": "markdown",
   "metadata": {},
   "source": [
    "### Select test data with ``test_selection_option=2``\n",
    "\n",
    "We then set ``test_selection_option=2`` which uses the same procedure\n",
    "to select the test data as was used to select the train data. In this case, it will also sample\n",
    "10% of the total data set as the test data."
   ]
  },
  {
   "cell_type": "code",
   "execution_count": 21,
   "metadata": {},
   "outputs": [
    {
     "name": "stdout",
     "output_type": "stream",
     "text": [
      "Cluster 0: taking 14 train samples out of 100 observations (14.0%).\n",
      "Cluster 1: taking 28 train samples out of 250 observations (11.2%).\n",
      "Cluster 2: taking 42 train samples out of 400 observations (10.5%).\n",
      "Cluster 3: taking 41 train samples out of 500 observations (8.2%).\n",
      "\n",
      "Cluster 0: taking 8 test samples out of 86 remaining observations (9.3%).\n",
      "Cluster 1: taking 25 test samples out of 222 remaining observations (11.3%).\n",
      "Cluster 2: taking 29 test samples out of 358 remaining observations (8.1%).\n",
      "Cluster 3: taking 63 test samples out of 459 remaining observations (13.7%).\n",
      "\n",
      "Selected 125 train samples (10.0%) and 125 test samples (10.0%).\n",
      "\n"
     ]
    }
   ],
   "source": [
    "(idx_train, idx_test) = sample.random(10, test_selection_option=2)"
   ]
  },
  {
   "cell_type": "markdown",
   "metadata": {},
   "source": [
    "The visual result of this sampling can be seen below:"
   ]
  },
  {
   "cell_type": "code",
   "execution_count": 22,
   "metadata": {},
   "outputs": [],
   "source": [
    "if save_plots: save_filename = '../images/tutorial-train-test-select-random-doc-2.svg'\n",
    "plt = preprocess.plot_2d_train_test_samples(x, y, idx, idx_train, idx_test, color_map=color_map, first_cluster_index_zero=first_cluster, figure_size=(10,5), save_filename=save_filename)"
   ]
  },
  {
   "cell_type": "markdown",
   "metadata": {},
   "source": [
    "***\n",
    "<a id='maintain_fixed_test_data'></a>\n",
    "## Maintaining a fixed test data set\n",
    "\n",
    "[**↑ Go to the top**](#top-page)"
   ]
  },
  {
   "cell_type": "markdown",
   "metadata": {},
   "source": [
    "In this example, we further illustrate how maintaining a fixed test data set\n",
    "functionality can be utilized.\n",
    "Suppose that in every cluster you have a very distinct set of observations on\n",
    "which you always want to test your model.\n",
    "You can point out those observations when initializing a ``DataSampler``\n",
    "object through the use of the ``idx_test`` parameter.\n",
    "\n",
    "We simulate this situation by appending additional samples to the previously\n",
    "defined data set. We add 20 samples in each cluster - those sammples can be seen in the\n",
    "figure below as smaller clouds next to each cluster:"
   ]
  },
  {
   "cell_type": "code",
   "execution_count": 23,
   "metadata": {},
   "outputs": [],
   "source": [
    "Nt_1, Nt_2, Nt_3, Nt_4 = 20, 20, 20, 20\n",
    "mean_k1, mean_k2, mean_k3, mean_k4 = [-7, 7], [7, 7], [-7, -7], [7, -7]\n",
    "covariance = [[0.2, .1], [.1, 0.2]]\n",
    "xt_k1, yt_k1 = np.random.multivariate_normal(mean_k1, covariance, Nt_1).T\n",
    "xt_k2, yt_k2 = np.random.multivariate_normal(mean_k2, covariance, Nt_2).T\n",
    "xt_k3, yt_k3 = np.random.multivariate_normal(mean_k3, covariance, Nt_3).T\n",
    "xt_k4, yt_k4 = np.random.multivariate_normal(mean_k4, covariance, Nt_4).T\n",
    "xt = np.vstack((xt_k1[:,np.newaxis], xt_k2[:,np.newaxis], xt_k3[:,np.newaxis], xt_k4[:,np.newaxis], x))\n",
    "yt = np.vstack((yt_k1[:,np.newaxis], yt_k2[:,np.newaxis], yt_k3[:,np.newaxis], yt_k4[:,np.newaxis], y))\n",
    "idx_appended = np.vstack((np.zeros((Nt_1, 1)), np.ones((Nt_2, 1)), 2*np.ones((Nt_3, 1)), 3*np.ones((Nt_4, 1)), np.zeros((N_1, 1)), np.ones((N_2, 1)), 2*np.ones((N_3, 1)), 3*np.ones((N_4, 1)))).astype(int).ravel()\n",
    "idx_test = np.arange(0,Nt_1+Nt_2+Nt_3+Nt_4,1)\n",
    "populations = preprocess.get_populations(idx_appended)"
   ]
  },
  {
   "cell_type": "code",
   "execution_count": 24,
   "metadata": {},
   "outputs": [],
   "source": [
    "if save_plots: save_filename = '../images/tutorial-train-test-select-original-data-set-appended-doc.svg'\n",
    "plt = preprocess.plot_2d_clustering(xt, yt, idx_appended, x_label=\"$x_t$\", y_label=\"$y_t$\", color_map=color_map, first_cluster_index_zero=first_cluster, figure_size=figure_size, title='Original data set', save_filename=save_filename)"
   ]
  },
  {
   "cell_type": "markdown",
   "metadata": {},
   "source": [
    "Assuming that we know the indices of points that represent the appended clouds, stored in\n",
    "``idx_test``, we can use that array of indices as an input parameter:"
   ]
  },
  {
   "cell_type": "code",
   "execution_count": 25,
   "metadata": {},
   "outputs": [
    {
     "name": "stdout",
     "output_type": "stream",
     "text": [
      "User defined test samples will be used. Parameter `test_selection_option` will be ignored.\n",
      "\n"
     ]
    }
   ],
   "source": [
    "sample = DataSampler(idx_appended, idx_test=idx_test, random_seed=random_seed, verbose=True)"
   ]
  },
  {
   "cell_type": "markdown",
   "metadata": {},
   "source": [
    "Any sampling function now called will maintain those samples as the test data and the\n",
    "train data will be sampled ignoring the indices in ``idx_test``.\n",
    "Note also that if ``idx_test`` is specified, the ``test_selection_option`` parameter is ignored.\n",
    "\n",
    "We will demonstrate this sampling using the ``DataSampler.random`` function, but\n",
    "any other sampling function that we demonstrated earlier can be used as well."
   ]
  },
  {
   "cell_type": "code",
   "execution_count": 26,
   "metadata": {},
   "outputs": [
    {
     "name": "stdout",
     "output_type": "stream",
     "text": [
      "Cluster 0: taking 86 train samples out of 120 observations (71.7%).\n",
      "Cluster 1: taking 211 train samples out of 270 observations (78.1%).\n",
      "Cluster 2: taking 347 train samples out of 420 observations (82.6%).\n",
      "Cluster 3: taking 420 train samples out of 520 observations (80.8%).\n",
      "\n",
      "Cluster 0: taking 20 test samples out of 34 remaining observations (58.8%).\n",
      "Cluster 1: taking 20 test samples out of 59 remaining observations (33.9%).\n",
      "Cluster 2: taking 20 test samples out of 73 remaining observations (27.4%).\n",
      "Cluster 3: taking 20 test samples out of 100 remaining observations (20.0%).\n",
      "\n",
      "Selected 1064 train samples (80.0%) and 80 test samples (6.0%).\n",
      "\n"
     ]
    }
   ],
   "source": [
    "(idx_train, idx_test) = sample.random(80, test_selection_option=2)"
   ]
  },
  {
   "cell_type": "markdown",
   "metadata": {},
   "source": [
    "The visual result of this sampling can be seen below:"
   ]
  },
  {
   "cell_type": "code",
   "execution_count": 27,
   "metadata": {},
   "outputs": [],
   "source": [
    "if save_plots: save_filename = '../images/tutorial-train-test-select-random-with-idx-test-doc.svg'\n",
    "plt = preprocess.plot_2d_train_test_samples(xt, yt, idx_appended, idx_train, idx_test, color_map=color_map, first_cluster_index_zero=first_cluster, figure_size=(10,5), save_filename=save_filename)"
   ]
  },
  {
   "cell_type": "markdown",
   "metadata": {},
   "source": [
    "***\n",
    "<a id='chaining_sampling_functions'></a>\n",
    "## Chaining sampling functions\n",
    "\n",
    "[**↑ Go to the top**](#top-page)\n",
    "\n",
    "Finally, we discuss an interesting use-case for chaining two sampling\n",
    "functions, where train samples obtained from one sampling can become a fixed test\n",
    "data for another sampling.\n",
    "\n",
    "Suppose that our target is to have a fixed test data set composed of:\n",
    "\n",
    "- 10 samples from the first cluster\n",
    "- 20 samples from the second cluster\n",
    "- 10 samples from the third cluster\n",
    "- 50 samples from the fourth cluster\n",
    "\n",
    "and, at the same time, select a fixed number of train samples from each cluster.\n",
    "\n",
    "We can start with generating the desired test samples using the\n",
    "``DataSampler.manual`` function. We can output the train data as the test data:"
   ]
  },
  {
   "cell_type": "code",
   "execution_count": 28,
   "metadata": {},
   "outputs": [
    {
     "name": "stdout",
     "output_type": "stream",
     "text": [
      "Cluster 0: taking 10 train samples out of 100 observations (10.0%).\n",
      "Cluster 1: taking 20 train samples out of 250 observations (8.0%).\n",
      "Cluster 2: taking 10 train samples out of 400 observations (2.5%).\n",
      "Cluster 3: taking 50 train samples out of 500 observations (10.0%).\n",
      "\n",
      "Cluster 0: taking 90 test samples out of 90 remaining observations (100.0%).\n",
      "Cluster 1: taking 230 test samples out of 230 remaining observations (100.0%).\n",
      "Cluster 2: taking 390 test samples out of 390 remaining observations (100.0%).\n",
      "Cluster 3: taking 450 test samples out of 450 remaining observations (100.0%).\n",
      "\n",
      "Selected 90 train samples (7.2%) and 1160 test samples (92.8%).\n",
      "\n"
     ]
    }
   ],
   "source": [
    "sample = DataSampler(idx, random_seed=random_seed, verbose=True)\n",
    "(idx_test, _) = sample.manual({0:10, 1:20, 2:10, 3:50}, sampling_type='number', test_selection_option=1)"
   ]
  },
  {
   "cell_type": "markdown",
   "metadata": {},
   "source": [
    "Now we feed the obtained test set as a fixed test set for the target sampling:"
   ]
  },
  {
   "cell_type": "code",
   "execution_count": 29,
   "metadata": {},
   "outputs": [
    {
     "name": "stdout",
     "output_type": "stream",
     "text": [
      "User defined test samples will be used. Parameter `test_selection_option` will be ignored.\n",
      "\n",
      "Cluster 0: taking 60 train samples out of 100 observations (60.0%).\n",
      "Cluster 1: taking 60 train samples out of 250 observations (24.0%).\n",
      "Cluster 2: taking 60 train samples out of 400 observations (15.0%).\n",
      "Cluster 3: taking 60 train samples out of 500 observations (12.0%).\n",
      "\n",
      "Cluster 0: taking 10 test samples out of 40 remaining observations (25.0%).\n",
      "Cluster 1: taking 20 test samples out of 190 remaining observations (10.5%).\n",
      "Cluster 2: taking 10 test samples out of 340 remaining observations (2.9%).\n",
      "Cluster 3: taking 50 test samples out of 440 remaining observations (11.4%).\n",
      "\n",
      "Selected 240 train samples (19.2%) and 90 test samples (7.2%).\n",
      "\n"
     ]
    }
   ],
   "source": [
    "sample.idx_test = idx_test\n",
    "(idx_train, idx_test) = sample.number(19.5, test_selection_option=1)"
   ]
  },
  {
   "cell_type": "markdown",
   "metadata": {},
   "source": [
    "The visual result of this sampling can be seen below:"
   ]
  },
  {
   "cell_type": "code",
   "execution_count": 30,
   "metadata": {},
   "outputs": [],
   "source": [
    "if save_plots: save_filename = '../images/tutorial-train-test-select-chaining-functions.svg'\n",
    "plt = preprocess.plot_2d_train_test_samples(x, y, idx, idx_train, idx_test, color_map=color_map, first_cluster_index_zero=first_cluster, figure_size=(10,5), save_filename=save_filename)"
   ]
  },
  {
   "cell_type": "markdown",
   "metadata": {},
   "source": [
    "Notice that we have achieved what we wanted to: we generated a desired test\n",
    "data set with 10, 20, 10 and 50 samples, and we also have an equal number of\n",
    "train samples selected from each cluster - in this case 60 samples."
   ]
  },
  {
   "cell_type": "markdown",
   "metadata": {},
   "source": [
    "***"
   ]
  }
 ],
 "metadata": {
  "kernelspec": {
   "display_name": "Python 3",
   "language": "python",
   "name": "python3"
  },
  "language_info": {
   "codemirror_mode": {
    "name": "ipython",
    "version": 3
   },
   "file_extension": ".py",
   "mimetype": "text/x-python",
   "name": "python",
   "nbconvert_exporter": "python",
   "pygments_lexer": "ipython3",
   "version": "3.7.6"
  }
 },
 "nbformat": 4,
 "nbformat_minor": 4
}
